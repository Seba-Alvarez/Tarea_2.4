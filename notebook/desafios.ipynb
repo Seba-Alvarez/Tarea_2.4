{
 "cells": [
  {
   "cell_type": "markdown",
   "id": "208280f5",
   "metadata": {},
   "source": [
    "<h1>Desafío 3</h1>\n",
    "\n",
    "<h4>Realizar conversiones de una temperatura dada en Celsius a Fahrenheit y Kelvin utilizando operaciones directas sobre las variables. Los cálculos se realizarán directamente al asignar los valores a las variables.</h4>"
   ]
  },
  {
   "cell_type": "markdown",
   "id": "4e9eeb7c",
   "metadata": {},
   "source": [
    "<h4>Pseudocódigo</h4>"
   ]
  },
  {
   "cell_type": "markdown",
   "id": "73cc7ad1",
   "metadata": {},
   "source": [
    "```\n",
    "se hace una función que haga los calculos para transformar de celsius a fahrenheit (f = (9/5 * c)+32)\n",
    "    se hace una función que haga los calculos para transformar de celsius a kelvin (k = c + 273,15)\n",
    "        se define el número que en celsius que se quiere convertir\n",
    "            se llama a la función de pasar a fahrenheit y se le pasa el número en celsius por parametro\n",
    "            se llama a la función de pasar a kelvin y se le pasa el número en celsius por parametro\n",
    "        se imprime los resultados por pantalla\n",
    "```"
   ]
  },
  {
   "cell_type": "markdown",
   "id": "52e8e592",
   "metadata": {},
   "source": [
    "<h4>Código</h4>"
   ]
  },
  {
   "cell_type": "code",
   "execution_count": null,
   "id": "fbd0d460",
   "metadata": {},
   "outputs": [],
   "source": [
    "#dos funciones que hacen los calculos para hacer las conversiones\n",
    "\n",
    "#para pasar de celsius a fahrenheit la formula es el número en celsius multiplicado por la division de 9/5 y a eso se le suma 32\n",
    "def cel_far(cel):\n",
    "    return (9 / 5) * cel + 32\n",
    "\n",
    "#para pasar de celsius a kelvin la formula es la temperatura en celsius + 273.15\n",
    "def cel_kel(cel):\n",
    "    return cel + 273.15\n",
    "\n",
    "print(\"ingresar el número a convertir\")\n",
    "#se pide el número que se desea convertir\n",
    "num_a_conv = float(input())\n",
    "\n",
    "#se llama a las funciones y se les pasa por parametro el número que se ingrese por consola\n",
    "far = cel_far(num_a_conv)\n",
    "kel = cel_kel(num_a_conv)\n",
    "\n",
    "print(f\"{num_a_conv} grados celsius en fahrenheit son {far}\")\n",
    "print(f\"{num_a_conv} grados celsius en kelvin son {kel}\")"
   ]
  },
  {
   "cell_type": "markdown",
   "id": "21e0c19f",
   "metadata": {},
   "source": [
    "<h4>Tipos de datos, operadores y validaciones usadas:</h4>"
   ]
  },
  {
   "cell_type": "markdown",
   "id": "a7626a73",
   "metadata": {},
   "source": [
    "<div>-Use datos numéricos, aunque luego los pase a decimales (float).</div>\n",
    "<div>-Use operadores lógicos de suma, multiplicación y división.</div>\n",
    "<div>-No use nunguna validación, si se quisiera se podría verificar que se ingresen datps numéricos.</div>"
   ]
  },
  {
   "cell_type": "markdown",
   "id": "1c671609",
   "metadata": {},
   "source": [
    "<h1>Desafío 4</h1>\n",
    "\n",
    "<h4>Crea un programa que, dado un número, verifique si es múltiplo de los números mencionados. Para cada uno de estos números, el programa debe indicar si el número dado es o no un múltiplo de estos.</h4>"
   ]
  },
  {
   "cell_type": "markdown",
   "id": "08f277b0",
   "metadata": {},
   "source": [
    "<h4>Pseudocódigo</h4>"
   ]
  },
  {
   "cell_type": "markdown",
   "id": "32635ebd",
   "metadata": {},
   "source": [
    "```\n",
    "se pide el número que se desea comparar\n",
    "    se guardan los valores en una lista\n",
    "        se recorre la lista\n",
    "            se verifica si el número ingresado es divisible por el número actual que esta recorriendo\n",
    "    se muestra por pantalla si el número es divisible o no\n",
    "```"
   ]
  },
  {
   "cell_type": "markdown",
   "id": "8f03e9bd",
   "metadata": {},
   "source": [
    "<h4>Código</h4>"
   ]
  },
  {
   "cell_type": "code",
   "execution_count": null,
   "id": "16a6420b",
   "metadata": {},
   "outputs": [],
   "source": [
    "#se pide el número a comparar\n",
    "print(\"ingresar el numero que se desea verificar\")\n",
    "num_ing = int(input())\n",
    "\n",
    "#se guardan los valores que se piden en una lista\n",
    "es_mul = [2,3,5,7,9,10,11]\n",
    "\n",
    "#listas vacias para mostrar los números\n",
    "mul = []\n",
    "no_mul = []\n",
    "\n",
    "#se recorre la lista\n",
    "#i es el número que está recorriendo\n",
    "for i in es_mul:\n",
    "    #si el número ingresado es divisible por el número que esta recorriendo\n",
    "    if num_ing % i == 0:\n",
    "        #aca se guardan los multiplos\n",
    "        mul.append(i) \n",
    "    else:\n",
    "        #aca los que no son multiplos\n",
    "        no_mul.append(i)\n",
    "\n",
    "#se muestra todo junto para que quede mas prolijo\n",
    "print(f\"{num_ing} es multiplo de {mul} y no es multiplo de {no_mul}\")"
   ]
  },
  {
   "cell_type": "markdown",
   "id": "aa1d5782",
   "metadata": {},
   "source": [
    "<h4>Tipos de datos, operadores y validaciones usadas:</h4>"
   ]
  },
  {
   "cell_type": "markdown",
   "id": "13f5c7d0",
   "metadata": {},
   "source": [
    "<div>-Use datos numéricos (int).</div>\n",
    "<div>-Si bien no use operadores lógicos directamente, use % (que significa el resto) internamente se hace la división para saber el resto.</div>\n",
    "<div>-Para verificar si los números son multiplos, se verifica si el resto de la división entre un número i es 0 (lo que quiere decir que es divisible).</div>"
   ]
  },
  {
   "cell_type": "markdown",
   "id": "f8691630",
   "metadata": {},
   "source": [
    "<h4>Link al Github</h4>\n",
    "\n",
    "https://github.com/Seba-Alvarez/Tarea_2.4.git"
   ]
  }
 ],
 "metadata": {
  "kernelspec": {
   "display_name": "Python 3",
   "language": "python",
   "name": "python3"
  },
  "language_info": {
   "codemirror_mode": {
    "name": "ipython",
    "version": 3
   },
   "file_extension": ".py",
   "mimetype": "text/x-python",
   "name": "python",
   "nbconvert_exporter": "python",
   "pygments_lexer": "ipython3",
   "version": "3.13.2"
  }
 },
 "nbformat": 4,
 "nbformat_minor": 5
}
